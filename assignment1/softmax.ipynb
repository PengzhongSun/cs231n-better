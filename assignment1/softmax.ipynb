{
 "cells": [
  {
   "cell_type": "markdown",
   "metadata": {},
   "source": [
    "# Softmax exercise\n",
    "\n",
    "*Complete and hand in this completed worksheet (including its outputs and any supporting code outside of the worksheet) with your assignment submission. For more details see the [assignments page](http://vision.stanford.edu/teaching/cs231n/assignments.html) on the course website.*\n",
    "\n",
    "This exercise is analogous to the SVM exercise. You will:\n",
    "\n",
    "- implement a fully-vectorized **loss function** for the Softmax classifier\n",
    "- implement the fully-vectorized expression for its **analytic gradient**\n",
    "- **check your implementation** with numerical gradient\n",
    "- use a validation set to **tune the learning rate and regularization** strength\n",
    "- **optimize** the loss function with **SGD**\n",
    "- **visualize** the final learned weights\n"
   ]
  },
  {
   "cell_type": "code",
   "execution_count": 1,
   "metadata": {},
   "outputs": [],
   "source": [
    "import random\n",
    "import numpy as np\n",
    "from cs231n.data_utils import load_CIFAR10\n",
    "import matplotlib.pyplot as plt\n",
    "\n",
    "from __future__ import print_function\n",
    "\n",
    "%matplotlib inline\n",
    "plt.rcParams['figure.figsize'] = (10.0, 8.0) # set default size of plots\n",
    "plt.rcParams['image.interpolation'] = 'nearest'\n",
    "plt.rcParams['image.cmap'] = 'gray'\n",
    "\n",
    "# for auto-reloading extenrnal modules\n",
    "# see http://stackoverflow.com/questions/1907993/autoreload-of-modules-in-ipython\n",
    "%load_ext autoreload\n",
    "%autoreload 2"
   ]
  },
  {
   "cell_type": "code",
   "execution_count": 2,
   "metadata": {},
   "outputs": [
    {
     "name": "stdout",
     "output_type": "stream",
     "text": [
      "Train data shape:  (49000, 3073)\n",
      "Train labels shape:  (49000,)\n",
      "Validation data shape:  (1000, 3073)\n",
      "Validation labels shape:  (1000,)\n",
      "Test data shape:  (1000, 3073)\n",
      "Test labels shape:  (1000,)\n",
      "dev data shape:  (500, 3073)\n",
      "dev labels shape:  (500,)\n"
     ]
    }
   ],
   "source": [
    "def get_CIFAR10_data(num_training=49000, num_validation=1000, num_test=1000, num_dev=500):\n",
    "    \"\"\"\n",
    "    Load the CIFAR-10 dataset from disk and perform preprocessing to prepare\n",
    "    it for the linear classifier. These are the same steps as we used for the\n",
    "    SVM, but condensed to a single function.  \n",
    "    \"\"\"\n",
    "    # Load the raw CIFAR-10 data\n",
    "    cifar10_dir = 'cs231n/datasets/cifar-10-batches-py'\n",
    "    \n",
    "    X_train, y_train, X_test, y_test = load_CIFAR10(cifar10_dir)\n",
    "    \n",
    "    # subsample the data\n",
    "    # 划分X_train和y_train的前49000为训练集，后1000为验证集\n",
    "    mask = list(range(num_training, num_training + num_validation))\n",
    "    X_val = X_train[mask]\n",
    "    y_val = y_train[mask]\n",
    "    mask = list(range(num_training))\n",
    "    X_train = X_train[mask]\n",
    "    y_train = y_train[mask]\n",
    "    #划分测试集为测试集\n",
    "    mask = list(range(num_test))\n",
    "    X_test = X_test[mask]\n",
    "    y_test = y_test[mask]\n",
    "    #从训练集中随机选出500个开发集\n",
    "    mask = np.random.choice(num_training, num_dev, replace=False)\n",
    "    X_dev = X_train[mask]\n",
    "    y_dev = y_train[mask]\n",
    "    \n",
    "    # Preprocessing: reshape the image data into rows\n",
    "    X_train = np.reshape(X_train, (X_train.shape[0], -1))\n",
    "    X_val = np.reshape(X_val, (X_val.shape[0], -1))\n",
    "    X_test = np.reshape(X_test, (X_test.shape[0], -1))\n",
    "    X_dev = np.reshape(X_dev, (X_dev.shape[0], -1))\n",
    "    \n",
    "    # Normalize the data: subtract the mean image，归一化处理\n",
    "    mean_image = np.mean(X_train, axis = 0)\n",
    "    X_train -= mean_image\n",
    "    X_val -= mean_image\n",
    "    X_test -= mean_image\n",
    "    X_dev -= mean_image\n",
    "    \n",
    "    # add bias dimension and transform into columns\n",
    "    # X_train.shape[0]是样本数量，下面操作是在X中加一个属性列。\n",
    "    # 这样计算出的W的最后一行为原b\n",
    "    X_train = np.hstack([X_train, np.ones((X_train.shape[0], 1))])\n",
    "    X_val = np.hstack([X_val, np.ones((X_val.shape[0], 1))])\n",
    "    X_test = np.hstack([X_test, np.ones((X_test.shape[0], 1))])\n",
    "    X_dev = np.hstack([X_dev, np.ones((X_dev.shape[0], 1))])\n",
    "    \n",
    "    return X_train, y_train, X_val, y_val, X_test, y_test, X_dev, y_dev\n",
    "\n",
    "\n",
    "# Cleaning up variables to prevent loading data multiple times (which may cause memory issue)\n",
    "try:\n",
    "   del X_train, y_train\n",
    "   del X_test, y_test\n",
    "   print('Clear previously loaded data.')\n",
    "except:\n",
    "   pass\n",
    "\n",
    "# Invoke the above function to get our data.\n",
    "X_train, y_train, X_val, y_val, X_test, y_test, X_dev, y_dev = get_CIFAR10_data()\n",
    "print('Train data shape: ', X_train.shape)\n",
    "print('Train labels shape: ', y_train.shape)\n",
    "print('Validation data shape: ', X_val.shape)\n",
    "print('Validation labels shape: ', y_val.shape)\n",
    "print('Test data shape: ', X_test.shape)\n",
    "print('Test labels shape: ', y_test.shape)\n",
    "print('dev data shape: ', X_dev.shape)\n",
    "print('dev labels shape: ', y_dev.shape)"
   ]
  },
  {
   "cell_type": "markdown",
   "metadata": {},
   "source": [
    "## Softmax Classifier\n",
    "\n",
    "Your code for this section will all be written inside **cs231n/classifiers/softmax.py**. \n"
   ]
  },
  {
   "cell_type": "code",
   "execution_count": 3,
   "metadata": {},
   "outputs": [
    {
     "name": "stdout",
     "output_type": "stream",
     "text": [
      "loss: 2.322705\n",
      "sanity check: 2.302585\n"
     ]
    }
   ],
   "source": [
    "# First implement the naive softmax loss function with nested loops.\n",
    "# Open the file cs231n/classifiers/softmax.py and implement the\n",
    "# softmax_loss_naive function.\n",
    "\n",
    "from cs231n.classifiers.softmax import softmax_loss_naive\n",
    "import time\n",
    "\n",
    "# Generate a random softmax weight matrix and use it to compute the loss.\n",
    "W = np.random.randn(3073, 10) * 0.0001\n",
    "loss, grad = softmax_loss_naive(W, X_dev, y_dev, 0.0)\n",
    "\n",
    "# As a rough sanity check, our loss should be something close to -log(0.1).\n",
    "print('loss: %f' % loss)\n",
    "print('sanity check: %f' % (-np.log(0.1)))"
   ]
  },
  {
   "cell_type": "markdown",
   "metadata": {},
   "source": [
    "## Inline Question 1:\n",
    "Why do we expect our loss to be close to -log(0.1)? Explain briefly.**\n",
    "\n",
    "**Your answer:** \n",
    "因为w随机初始化，所以每个类计算的得分都是相同的，经过softmax之后的概率都是一样的，而这是一个10分类的问题，所以每个类的概率都是0.1，经过交叉熵得到的loss就是 -log(0.1)\n"
   ]
  },
  {
   "cell_type": "code",
   "execution_count": 4,
   "metadata": {},
   "outputs": [
    {
     "name": "stdout",
     "output_type": "stream",
     "text": [
      "numerical: 1.038047 analytic: 1.038047, relative error: 1.407083e-08\n",
      "numerical: -1.867389 analytic: -1.867389, relative error: 7.417963e-09\n",
      "numerical: -2.250730 analytic: -2.250730, relative error: 5.787295e-09\n",
      "numerical: -0.434548 analytic: -0.434548, relative error: 9.520231e-08\n",
      "numerical: -0.891657 analytic: -0.891657, relative error: 2.836509e-08\n",
      "numerical: 1.519043 analytic: 1.519043, relative error: 1.810337e-09\n",
      "numerical: 2.529987 analytic: 2.529987, relative error: 1.428054e-08\n",
      "numerical: 1.394520 analytic: 1.394520, relative error: 2.772707e-09\n",
      "numerical: 3.712769 analytic: 3.712769, relative error: 1.511565e-08\n",
      "numerical: 2.048870 analytic: 2.048870, relative error: 5.567687e-09\n",
      "numerical: 0.627324 analytic: 0.627324, relative error: 5.474656e-09\n",
      "numerical: 2.301190 analytic: 2.301190, relative error: 3.639313e-08\n",
      "numerical: -0.791387 analytic: -0.791387, relative error: 8.864126e-09\n",
      "numerical: -2.168796 analytic: -2.168796, relative error: 1.101861e-08\n",
      "numerical: -0.445343 analytic: -0.445343, relative error: 1.638978e-08\n",
      "numerical: -0.284801 analytic: -0.284801, relative error: 3.398520e-08\n",
      "numerical: -0.771613 analytic: -0.771613, relative error: 6.024575e-08\n",
      "numerical: -1.457563 analytic: -1.457563, relative error: 2.860873e-09\n",
      "numerical: 0.460930 analytic: 0.460930, relative error: 1.250653e-07\n",
      "numerical: 0.196962 analytic: 0.196962, relative error: 4.767637e-08\n"
     ]
    }
   ],
   "source": [
    "# Complete the implementation of softmax_loss_naive and implement a (naive)\n",
    "# version of the gradient that uses nested loops.\n",
    "loss, grad = softmax_loss_naive(W, X_dev, y_dev, 0.0)\n",
    "\n",
    "# As we did for the SVM, use numeric gradient checking as a debugging tool.\n",
    "# The numeric gradient should be close to the analytic gradient.\n",
    "from cs231n.gradient_check import grad_check_sparse\n",
    "f = lambda w: softmax_loss_naive(w, X_dev, y_dev, 0.0)[0]\n",
    "grad_numerical = grad_check_sparse(f, W, grad, 10)\n",
    "\n",
    "# similar to SVM case, do another gradient check with regularization\n",
    "loss, grad = softmax_loss_naive(W, X_dev, y_dev, 5e1)\n",
    "f = lambda w: softmax_loss_naive(w, X_dev, y_dev, 5e1)[0]\n",
    "grad_numerical = grad_check_sparse(f, W, grad, 10)"
   ]
  },
  {
   "cell_type": "code",
   "execution_count": 22,
   "metadata": {},
   "outputs": [
    {
     "name": "stdout",
     "output_type": "stream",
     "text": [
      "VVVVVVVVVVVVVVVVVVVVVVVVVVVVVVVVVVVVVVVVVVVVVVVVVVVVVVVVVVVVVVVVVVVVVVV\n",
      "[[-2.32245328e+00  1.63726126e-01 -1.98631225e-01 ... -5.24402568e-01\n",
      "  -2.44741085e+00 -4.76059953e+00]\n",
      " [-3.32447802e+00  8.76129768e-01  1.35538843e-01 ... -2.59981022e-01\n",
      "  -3.80256553e+00 -5.56666394e+00]\n",
      " [-5.31914320e+00  7.81640761e-01  1.32445110e+00 ... -2.90365684e-01\n",
      "  -5.65466330e+00 -7.13770209e+00]\n",
      " ...\n",
      " [-5.36725337e-01  6.78233007e-01  1.16266422e-01 ... -8.77303927e-01\n",
      "  -1.80790268e-01 -2.14674708e+00]\n",
      " [-1.79592922e+00 -2.59597985e-01  8.49977614e-01 ...  5.26018325e-01\n",
      "  -2.00015399e+00 -2.92543162e+00]\n",
      " [ 1.67235367e-02 -1.68338920e-02  1.50131645e-02 ... -1.10980850e-02\n",
      "   1.25938281e-02  3.14130794e-03]]\n",
      "naive loss: 2.322705e+00 computed in 0.345787s\n",
      "VVVVVVVVVVVVVVVVVVVVVVVVVVVVVVVVVVVVVVVVVVVVVVVVVVVVVVVVVVVVVVVVVVVVVVV\n",
      "[[-2.32245328e+00  1.63726126e-01 -1.98631225e-01 ... -5.24402568e-01\n",
      "  -2.44741085e+00 -4.76059953e+00]\n",
      " [-3.32447802e+00  8.76129768e-01  1.35538843e-01 ... -2.59981022e-01\n",
      "  -3.80256553e+00 -5.56666394e+00]\n",
      " [-5.31914320e+00  7.81640761e-01  1.32445110e+00 ... -2.90365684e-01\n",
      "  -5.65466330e+00 -7.13770209e+00]\n",
      " ...\n",
      " [-5.36725337e-01  6.78233007e-01  1.16266422e-01 ... -8.77303927e-01\n",
      "  -1.80790268e-01 -2.14674708e+00]\n",
      " [-1.79592922e+00 -2.59597985e-01  8.49977614e-01 ...  5.26018325e-01\n",
      "  -2.00015399e+00 -2.92543162e+00]\n",
      " [ 1.67235367e-02 -1.68338920e-02  1.50131645e-02 ... -1.10980850e-02\n",
      "   1.25938281e-02  3.14130794e-03]]\n",
      "vectorized loss: 2.322705e+00 computed in 0.009994s\n",
      "Loss difference: 0.000000\n",
      "Gradient difference: 0.000000\n"
     ]
    }
   ],
   "source": [
    "# Now that we have a naive implementation of the softmax loss function and its gradient,\n",
    "# implement a vectorized version in softmax_loss_vectorized.\n",
    "# The two versions should compute the same results, but the vectorized version should be\n",
    "# much faster.\n",
    "tic = time.time()\n",
    "loss_naive, grad_naive = softmax_loss_naive(W, X_dev, y_dev, 0.000005)\n",
    "toc = time.time()\n",
    "print('naive loss: %e computed in %fs' % (loss_naive, toc - tic))\n",
    "\n",
    "from cs231n.classifiers.softmax import softmax_loss_vectorized\n",
    "tic = time.time()\n",
    "loss_vectorized, grad_vectorized = softmax_loss_vectorized(W, X_dev, y_dev, 0.000005)\n",
    "toc = time.time()\n",
    "print('vectorized loss: %e computed in %fs' % (loss_vectorized, toc - tic))\n",
    "\n",
    "# As we did for the SVM, we use the Frobenius norm to compare the two versions\n",
    "# of the gradient.\n",
    "grad_difference = np.linalg.norm(grad_naive - grad_vectorized, ord='fro')\n",
    "print('Loss difference: %f' % np.abs(loss_naive - loss_vectorized))\n",
    "print('Gradient difference: %f' % grad_difference)"
   ]
  },
  {
   "cell_type": "code",
   "execution_count": 33,
   "metadata": {},
   "outputs": [
    {
     "name": "stdout",
     "output_type": "stream",
     "text": [
      "lr 1.000000e-07 reg 2.500000e+03 train accuracy: 0.296571 val accuracy: 0.298000\n",
      "lr 1.000000e-07 reg 5.000000e+03 train accuracy: 0.332306 val accuracy: 0.338000\n",
      "lr 1.000000e-07 reg 7.000000e+03 train accuracy: 0.346837 val accuracy: 0.345000\n",
      "lr 5.000000e-07 reg 2.500000e+03 train accuracy: 0.389020 val accuracy: 0.405000\n",
      "lr 5.000000e-07 reg 5.000000e+03 train accuracy: 0.368673 val accuracy: 0.383000\n",
      "lr 5.000000e-07 reg 7.000000e+03 train accuracy: 0.357469 val accuracy: 0.373000\n",
      "best validation accuracy achieved during cross-validation: 0.405000\n"
     ]
    }
   ],
   "source": [
    "# Use the validation set to tune hyperparameters (regularization strength and\n",
    "# learning rate). You should experiment with different ranges for the learning\n",
    "# rates and regularization strengths; if you are careful you should be able to\n",
    "# get a classification accuracy of over 0.35 on the validation set.\n",
    "from cs231n.classifiers import Softmax\n",
    "from copy import deepcopy\n",
    "results = {}\n",
    "best_val = -1\n",
    "best_softmax = None\n",
    "learning_rates = [1e-7, 5e-7]\n",
    "regularization_strengths = [2.5e3, 5e3, 7e3]\n",
    "\n",
    "################################################################################\n",
    "# TODO:                                                                        #\n",
    "# Use the validation set to set the learning rate and regularization strength. #\n",
    "# This should be identical to the validation that you did for the SVM; save    #\n",
    "# the best trained softmax classifer in best_softmax.                          #\n",
    "################################################################################\n",
    "# 先调用__init__.py,再调用linear_classifier.py，然后使用SGD的softmax\n",
    "from cs231n.classifiers import softmax\n",
    "\n",
    "for i in np.arange(len(learning_rates)):\n",
    "    lr=learning_rates[i]\n",
    "    for j in np.arange(len(regularization_strengths)):\n",
    "        reg=regularization_strengths[j]\n",
    "        softmax = Softmax()\n",
    "        softmax.train(X_train, y_train, lr, reg, 1500, 128)\n",
    "        train_pred = softmax.predict(X_train)\n",
    "        train_acc = np.mean(train_pred == y_train)\n",
    "        \n",
    "        # 利用验证集选择最好的超参数\n",
    "        val_pred = softmax.predict(X_val)\n",
    "        val_acc = np.mean(val_pred == y_val)\n",
    "        results[(lr, reg)] = [train_acc, val_acc]\n",
    "        if val_acc > best_val:\n",
    "            best_val = val_acc\n",
    "            best_softmax = deepcopy(softmax)\n",
    "\n",
    "\n",
    "\n",
    "################################################################################\n",
    "#                              END OF YOUR CODE                                #\n",
    "################################################################################\n",
    "    \n",
    "# Print out results.\n",
    "for lr, reg in sorted(results):\n",
    "    train_accuracy, val_accuracy = results[(lr, reg)]\n",
    "    print('lr %e reg %e train accuracy: %f val accuracy: %f' % (\n",
    "                lr, reg, train_accuracy, val_accuracy))\n",
    "    \n",
    "print('best validation accuracy achieved during cross-validation: %f' % best_val)"
   ]
  },
  {
   "cell_type": "code",
   "execution_count": 34,
   "metadata": {},
   "outputs": [
    {
     "name": "stdout",
     "output_type": "stream",
     "text": [
      "softmax on raw pixels final test set accuracy: 0.374000\n"
     ]
    }
   ],
   "source": [
    "# evaluate on test set\n",
    "# Evaluate the best softmax on test set\n",
    "y_test_pred = best_softmax.predict(X_test)\n",
    "test_accuracy = np.mean(y_test == y_test_pred)\n",
    "print('softmax on raw pixels final test set accuracy: %f' % (test_accuracy, ))"
   ]
  },
  {
   "cell_type": "markdown",
   "metadata": {},
   "source": [
    "**Inline Question** - *True or False*\n",
    "\n",
    "It's possible to add a new datapoint to a training set that would leave the SVM loss unchanged, but this is not the case with the Softmax classifier loss.\n",
    "\n",
    "*Your answer*：True\n",
    "\n",
    "*Your explanation*: 因为SVM更关注的是真是类别与其他分类之间的score差值，只要差值保持在大于阈值的范围之内，SVM就不会对这个新数据进行操作，SVM模型就会保持不变，SVM loss也保持不变。\n",
    "但是对于softmax，其真是类别的score是相对于所有类别的一个比例，所以加入一个新的数据点，将会对模型进行微调，loss就可能改变。\n",
    "\n",
    "老师的答案：\n",
    "因为 svm 的公式是 $loss = \\sum_{i \\neq j} max(0, s_i - s_j + \\Delta)$，有可能加的数据点对svm来讲比较好辨识，所以取max之后都是0，但是对于softmax而言，总会得到一个概率分布，然后算出交叉熵，换言之，softmax的loss总会加上一个量，即使是一个很小的量。"
   ]
  },
  {
   "cell_type": "code",
   "execution_count": 35,
   "metadata": {},
   "outputs": [
    {
     "data": {
      "image/png": "[encoded data removed]",
      "text/plain": [
       "<Figure size 432x288 with 10 Axes>"
      ]
     },
     "metadata": {},
     "output_type": "display_data"
    }
   ],
   "source": [
    "# Visualize the learned weights for each class\n",
    "w = best_softmax.W[:-1,:] # strip out the bias\n",
    "w = w.reshape(32, 32, 3, 10)\n",
    "\n",
    "w_min, w_max = np.min(w), np.max(w)\n",
    "\n",
    "classes = ['plane', 'car', 'bird', 'cat', 'deer', 'dog', 'frog', 'horse', 'ship', 'truck']\n",
    "for i in range(10):\n",
    "    plt.subplot(2, 5, i + 1)\n",
    "    \n",
    "    # Rescale the weights to be between 0 and 255\n",
    "    wimg = 255.0 * (w[:, :, :, i].squeeze() - w_min) / (w_max - w_min)\n",
    "    plt.imshow(wimg.astype('uint8'))\n",
    "    plt.axis('off')\n",
    "    plt.title(classes[i])"
   ]
  },
  {
   "cell_type": "code",
   "execution_count": null,
   "metadata": {},
   "outputs": [],
   "source": []
  }
 ],
 "metadata": {
  "kernelspec": {
   "display_name": "Python 3",
   "language": "python",
   "name": "python3"
  },
  "language_info": {
   "codemirror_mode": {
    "name": "ipython",
    "version": 3
   },
   "file_extension": ".py",
   "mimetype": "text/x-python",
   "name": "python",
   "nbconvert_exporter": "python",
   "pygments_lexer": "ipython3",
   "version": "3.6.6"
  }
 },
 "nbformat": 4,
 "nbformat_minor": 1
}
